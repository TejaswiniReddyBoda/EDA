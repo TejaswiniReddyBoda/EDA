{
 "cells": [
  {
   "cell_type": "markdown",
   "metadata": {},
   "source": [
    "# Tejaswini Reddy Boda 5024 3913\n",
    "    TEAM MATE: Pretty Mary Philip "
   ]
  },
  {
   "cell_type": "code",
   "execution_count": 3,
   "metadata": {},
   "outputs": [
    {
     "name": "stdout",
     "output_type": "stream",
     "text": [
      "package 'twitteR' successfully unpacked and MD5 sums checked\n",
      "\n",
      "The downloaded binary packages are in\n",
      "\tC:\\Users\\bodat\\AppData\\Local\\Temp\\RtmpWMyBy2\\downloaded_packages\n",
      "package 'rtweet' successfully unpacked and MD5 sums checked\n",
      "\n",
      "The downloaded binary packages are in\n",
      "\tC:\\Users\\bodat\\AppData\\Local\\Temp\\RtmpWMyBy2\\downloaded_packages\n"
     ]
    }
   ],
   "source": [
    "install.packages('twitteR', \"C:/Users/bodat/Downloads/Anaconda/R/library\", repos='http://cran.us.r-project.org')\n",
    "install.packages('rtweet', \"C:/Users/bodat/Downloads/Anaconda/R/library\", repos='http://cran.us.r-project.org')"
   ]
  },
  {
   "cell_type": "code",
   "execution_count": 3,
   "metadata": {},
   "outputs": [
    {
     "name": "stderr",
     "output_type": "stream",
     "text": [
      "Warning message:\n",
      "\"package 'twitteR' was built under R version 3.4.4\"Warning message:\n",
      "\"package 'rtweet' was built under R version 3.4.4\"\n",
      "Attaching package: 'rtweet'\n",
      "\n",
      "The following object is masked from 'package:twitteR':\n",
      "\n",
      "    lookup_statuses\n",
      "\n",
      "Waiting for authentication in browser...\n",
      "Press Esc/Ctrl + C to abort\n",
      "Please point your browser to the following url: \n",
      "https://api.twitter.com/oauth/authenticate?oauth_token=vwI3HQAAAAAA5a-LAAABYqJYKzI&permission=read\n",
      "Authentication complete.\n"
     ]
    },
    {
     "name": "stdout",
     "output_type": "stream",
     "text": [
      "[1] \"Using browser based authentication\"\n"
     ]
    },
    {
     "name": "stderr",
     "output_type": "stream",
     "text": [
      "Waiting for authentication in browser...\n",
      "Press Esc/Ctrl + C to abort\n",
      "Please point your browser to the following url: \n",
      "https://api.twitter.com/oauth/authenticate?oauth_token=upUnWQAAAAAA5a-LAAABYqJYSt4&permission=read\n",
      "Authentication complete.\n"
     ]
    }
   ],
   "source": [
    "library(twitteR)\n",
    "library(rtweet)\n",
    "consumer_key <- \"1DzI3KvKXPjK9IGpMiDZJfvfb\"\n",
    "consumer_secret <- \"ogGMS4VKoDN8T28cNK1GqQUaUbaH6M8wX9lu0sO12hlumdj7FW\"\n",
    "token <- create_token(app = \"DICLab\", consumer_key = consumer_key, consumer_secret = consumer_secret)\n",
    "setup_twitter_oauth(consumer_key, consumer_secret, access_token=NULL, access_secret=NULL)"
   ]
  },
  {
   "cell_type": "code",
   "execution_count": 11,
   "metadata": {},
   "outputs": [
    {
     "name": "stderr",
     "output_type": "stream",
     "text": [
      "Searching for tweets...\n",
      "This may take a few seconds...\n",
      "Warning message:\n",
      "\"Rate limit exceeded - 88\"Warning message:\n",
      "\"Rate limit exceeded\"Finished collecting tweets!\n",
      "Warning message in file(file, \"rt\"):\n",
      "\"cannot open file 'nk_Tweets.csv': No such file or directory\""
     ]
    },
    {
     "ename": "ERROR",
     "evalue": "Error in file(file, \"rt\"): cannot open the connection\n",
     "output_type": "error",
     "traceback": [
      "Error in file(file, \"rt\"): cannot open the connection\nTraceback:\n",
      "1. read.csv(\"nk_Tweets.csv\", header = TRUE)",
      "2. read.table(file = file, header = header, sep = sep, quote = quote, \n .     dec = dec, fill = fill, comment.char = comment.char, ...)",
      "3. file(file, \"rt\")"
     ]
    }
   ],
   "source": [
    "#tweets <- searchTwitter(\"Flu OR Influenza OR Virus\", n=80000, geocode='39.8,-95.583068847656,2500km', since = '2018-03-01')\n",
    "tweets <- search_tweets(\"North Korea\", token=token, n=50000, include_rts= FALSE)\n",
    "#tweets <- searchTwitter(\"North Korea\", n=50000, lang=\"en\")\n",
    "save_as_csv(tweets, \"nk_Tweets.csv\", prepend_ids = TRUE, na = \"\", fileEncoding = \"UTF-8\")\n",
    "tweets_csv<-read.csv(\"nk_Tweets.csv\",header=TRUE)\n",
    "tweets_text<-data.frame(tweets_csv[,5])\n",
    "write.table(tweets_text, \"nktweets_txt.txt\", append=TRUE, sep = \"\\t\", row.names=FALSE)"
   ]
  },
  {
   "cell_type": "code",
   "execution_count": null,
   "metadata": {},
   "outputs": [],
   "source": []
  },
  {
   "cell_type": "code",
   "execution_count": null,
   "metadata": {},
   "outputs": [],
   "source": []
  }
 ],
 "metadata": {
  "kernelspec": {
   "display_name": "R",
   "language": "R",
   "name": "ir"
  },
  "language_info": {
   "codemirror_mode": "r",
   "file_extension": ".r",
   "mimetype": "text/x-r-source",
   "name": "R",
   "pygments_lexer": "r",
   "version": "3.4.2"
  }
 },
 "nbformat": 4,
 "nbformat_minor": 2
}
