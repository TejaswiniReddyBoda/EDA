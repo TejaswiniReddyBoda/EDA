{
 "cells": [
  {
   "cell_type": "markdown",
   "metadata": {},
   "source": [
    "# Tejaswini Reddy Boda 5024 3913\n",
    "TEAM MATE: Pretty Mary Philip"
   ]
  },
  {
   "cell_type": "code",
   "execution_count": null,
   "metadata": {},
   "outputs": [],
   "source": [
    "library(jsonlite)\n",
    "library(dplyr)\n",
    "cooccurence<-read.table(\"HadoopLab/NewsData/NewsWords/Co_NewsData/part-00000\",header=FALSE,sep='\\t')\n",
    "\n",
    "names(cooccurence)<-c(\"a\",\"b\")\n",
    "#cooccurence\n",
    "df_split<-strsplit(as.character(cooccurence$a), split=\"-\")\n",
    "cooccurence <- transform(cooccurence, a= sapply(df_split, \"[[\", 1),c= sapply(df_split, \"[[\", 2))\n",
    "#cooccurence\n",
    "\n",
    "reducerData<-data.frame(cooccurence$a,cooccurence$c,cooccurence$b)\n",
    "names(reducerData)<-c(\"co1\",\"co2\",\"wordCount\")\n",
    "#reducerData\n",
    "\n",
    "o<-group_by(reducerData,\"co1\")\n",
    "o<-reducerData\n",
    "o<-unique(o$co1)\n",
    "# o\n",
    "o[1]\n",
    "reducerData\n",
    "nrow(reducerData)\n",
    "for (i in 1:length(o)){\n",
    "  x=o[i]\n",
    "  m<-data.frame(x,\"1\")\n",
    "  names(m)<-c(x,\"size\")\n",
    "  for(j in 1:nrow(reducerData)){\n",
    "    if (toString(reducerData[j,1])==toString(x)){\n",
    "      val<-data.frame(reducerData[j,2],reducerData[j,3])\n",
    "      names(val)<-names(m)\n",
    "      write.table(val, paste(\"htmlLab2Part2/ReducerJsonData/GC_NYACo_Temp/\",toString(x), sep = \"\"),append=TRUE,col.names = FALSE, row.names = FALSE)\n",
    "    }\n",
    "  }\n",
    "}\n",
    "selectOptionsHTML<-data.frame(o,o)\n",
    "names(selectOptionsHTML)<-c(\"value\",\"topWords\")\n",
    "selectOptionsHTMLJ<-toJSON(selectOptionsHTML)\n",
    "write(\"topWords=\",file=\"htmlLab2Part2/ReducerJsonData/GC_NYACo_Top.js\", append=TRUE)\n",
    "write(selectOptionsHTMLJ,file=\"htmlLab2Part2/ReducerJsonData/GC_NYACo_Top.js\", append=TRUE)\n",
    "for(i in 1:length(o)){\n",
    "  x=o[i]\n",
    "  # data<-read.table(paste(\"CoOccurenceMatrix/\",toString(x), sep = \"\"), header = FALSE)\n",
    "  # names(data)<-c(\"text\",\"size\")\n",
    "  # reducerDataJson <- toJSON(data)\n",
    "  # #write(paste(toString(x),\"=\", sep = \"\"),file=\"CoOccurenceMatrix/coOccurenceJsonTest.js\", append = TRUE)\n",
    "  # write(reducerDataJson,file=\"coOccurenceJsonTest.js\", append=TRUE)\n",
    "  \n",
    "  data<-read.table(paste(\"htmlLab2Part2/ReducerJsonData/GC_NYACo_Temp/\",toString(x), sep = \"\"), header = FALSE)\n",
    "  names(data)<-c(\"text\",\"size\")\n",
    "  reducerDataJson <- toJSON(data)\n",
    "  reducerDataJson\n",
    "  write(paste(toString(x),\"=\", sep = \"\"),file=\"htmlLab2Part2/ReducerJsonData/GC_NYACo.js\", append=TRUE)\n",
    "  write(reducerDataJson,file=\"htmlLab2Part2/ReducerJsonData/GC_NYACo.js\", append=TRUE)\n",
    "}"
   ]
  }
 ],
 "metadata": {
  "kernelspec": {
   "display_name": "R",
   "language": "R",
   "name": "ir"
  },
  "language_info": {
   "codemirror_mode": "r",
   "file_extension": ".r",
   "mimetype": "text/x-r-source",
   "name": "R",
   "pygments_lexer": "r",
   "version": "3.4.2"
  }
 },
 "nbformat": 4,
 "nbformat_minor": 2
}
