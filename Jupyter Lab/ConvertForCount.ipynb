{
 "cells": [
  {
   "cell_type": "markdown",
   "metadata": {},
   "source": [
    "# Tejaswini Reddy Boda 5024 3913\n",
    "TEAM MATE: Pretty Mary Philip"
   ]
  },
  {
   "cell_type": "code",
   "execution_count": null,
   "metadata": {},
   "outputs": [],
   "source": [
    "library(jsonlite)\n",
    "tweets_csv<-read.table(\"HadoopLab/TwitterData/TwitterWords/NK_TwitterData/part-00000\",header=FALSE,sep='\\t',nrows=1500)\n",
    "names(tweets_csv)<-c(\"a\",\"b\")\n",
    "tweets_csv$a<-substring(tweets_csv$a, 2)\n",
    "df_split<-strsplit(as.character(tweets_csv$a), split=\",\")\n",
    "tweets_csv <- transform(tweets_csv, text= sapply(df_split, \"[[\", 1),size= sapply(df_split, \"[[\", 2))\n",
    "df_split<-strsplit(as.character(tweets_csv$size), split=\"]\")\n",
    "tweets_csv <- transform(tweets_csv, size= sapply(df_split, \"[[\", 1))\n",
    "\n",
    "reducerData<-data.frame(tweets_csv$text,tweets_csv$size)\n",
    "names(reducerData)<-c(\"text\",\"size\")\n",
    "reducerData\n",
    "\n",
    "reducerDataJson <- toJSON(reducerData)\n",
    "write(\"NK_TweetWeek=\",file=\"htmlLab2Part2/ReducerJsonData/NK_TweetWeek.js\")\n",
    "write(reducerDataJson,file=\"htmlLab2Part2/ReducerJsonData/NK_TweetWeek.js\", append=TRUE)"
   ]
  }
 ],
 "metadata": {
  "kernelspec": {
   "display_name": "R",
   "language": "R",
   "name": "ir"
  },
  "language_info": {
   "codemirror_mode": "r",
   "file_extension": ".r",
   "mimetype": "text/x-r-source",
   "name": "R",
   "pygments_lexer": "r",
   "version": "3.4.2"
  }
 },
 "nbformat": 4,
 "nbformat_minor": 2
}
