{
 "cells": [
  {
   "cell_type": "code",
   "execution_count": 3,
   "metadata": {},
   "outputs": [
    {
     "name": "stdout",
     "output_type": "stream",
     "text": [
      "package 'twitteR' successfully unpacked and MD5 sums checked\n",
      "\n",
      "The downloaded binary packages are in\n",
      "\tC:\\Users\\bodat\\AppData\\Local\\Temp\\RtmpWMyBy2\\downloaded_packages\n",
      "package 'rtweet' successfully unpacked and MD5 sums checked\n",
      "\n",
      "The downloaded binary packages are in\n",
      "\tC:\\Users\\bodat\\AppData\\Local\\Temp\\RtmpWMyBy2\\downloaded_packages\n"
     ]
    }
   ],
   "source": [
    "install.packages('twitteR', \"C:/Users/bodat/Downloads/Anaconda/R/library\", repos='http://cran.us.r-project.org')\n",
    "install.packages('rtweet', \"C:/Users/bodat/Downloads/Anaconda/R/library\", repos='http://cran.us.r-project.org')"
   ]
  },
  {
   "cell_type": "code",
   "execution_count": 4,
   "metadata": {},
   "outputs": [
    {
     "name": "stderr",
     "output_type": "stream",
     "text": [
      "Warning message:\n",
      "\"package 'twitteR' was built under R version 3.4.4\"Warning message:\n",
      "\"package 'rtweet' was built under R version 3.4.4\"\n",
      "Attaching package: 'rtweet'\n",
      "\n",
      "The following object is masked from 'package:twitteR':\n",
      "\n",
      "    lookup_statuses\n",
      "\n",
      "Waiting for authentication in browser...\n",
      "Press Esc/Ctrl + C to abort\n",
      "Please point your browser to the following url: \n",
      "https://api.twitter.com/oauth/authenticate?oauth_token=H-dBcQAAAAAA5a-LAAABYqDi7To&permission=read\n",
      "Authentication complete.\n"
     ]
    },
    {
     "name": "stdout",
     "output_type": "stream",
     "text": [
      "[1] \"Using browser based authentication\"\n"
     ]
    },
    {
     "name": "stderr",
     "output_type": "stream",
     "text": [
      "Waiting for authentication in browser...\n",
      "Press Esc/Ctrl + C to abort\n",
      "Please point your browser to the following url: \n",
      "https://api.twitter.com/oauth/authenticate?oauth_token=z8BDpgAAAAAA5a-LAAABYqDkNjU&permission=read\n",
      "Authentication complete.\n"
     ]
    }
   ],
   "source": [
    "library(twitteR)\n",
    "library(rtweet)\n",
    "consumer_key <- \"1DzI3KvKXPjK9IGpMiDZJfvfb\"\n",
    "consumer_secret <- \"ogGMS4VKoDN8T28cNK1GqQUaUbaH6M8wX9lu0sO12hlumdj7FW\"\n",
    "token <- create_token(app = \"DICLab\", consumer_key = consumer_key, consumer_secret = consumer_secret)\n",
    "setup_twitter_oauth(consumer_key, consumer_secret, access_token=NULL, access_secret=NULL)"
   ]
  },
  {
   "cell_type": "code",
   "execution_count": null,
   "metadata": {},
   "outputs": [
    {
     "name": "stderr",
     "output_type": "stream",
     "text": [
      "Searching for tweets...\n",
      "This may take a few seconds...\n"
     ]
    }
   ],
   "source": [
    "#tweets <- searchTwitter(\"Flu OR Influenza OR Virus\", n=80000, geocode='39.8,-95.583068847656,2500km', since = '2018-03-01')\n",
    "tweets <- search_tweets(\"Gun Control\", token=token ,n=50000, include_rts= FALSE, retryonratelimit = TRUE)\n",
    "save_as_csv(tweets, \"gunControl_Tweets\", prepend_ids = TRUE, na = \"\",\n",
    "   fileEncoding = \"UTF-8\")\n",
    "tweets_csv<-read.csv(\"gunControl_Tweets.tweets_1.csv\",header=TRUE)\n",
    "tweets_text<-data.frame(tweets_csv[,5])\n",
    "write.table(tweets_text, \"tweets_txt.txt\", append=TRUE, sep = \"\\t\", row.names=FALSE)"
   ]
  },
  {
   "cell_type": "code",
   "execution_count": null,
   "metadata": {},
   "outputs": [],
   "source": []
  }
 ],
 "metadata": {
  "kernelspec": {
   "display_name": "R",
   "language": "R",
   "name": "ir"
  },
  "language_info": {
   "codemirror_mode": "r",
   "file_extension": ".r",
   "mimetype": "text/x-r-source",
   "name": "R",
   "pygments_lexer": "r",
   "version": "3.4.2"
  }
 },
 "nbformat": 4,
 "nbformat_minor": 2
}
